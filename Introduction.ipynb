{
  "nbformat": 4,
  "nbformat_minor": 0,
  "metadata": {
    "colab": {
      "name": "Introduction.ipynb",
      "provenance": [],
      "collapsed_sections": [],
      "authorship_tag": "ABX9TyPZghII1taSCNE20X2lWyiN",
      "include_colab_link": true
    },
    "kernelspec": {
      "name": "python3",
      "display_name": "Python 3"
    },
    "language_info": {
      "name": "python"
    }
  },
  "cells": [
    {
      "cell_type": "markdown",
      "metadata": {
        "id": "view-in-github",
        "colab_type": "text"
      },
      "source": [
        "<a href=\"https://colab.research.google.com/github/junsikpark91/GoogleColab/blob/main/Introduction.ipynb\" target=\"_parent\"><img src=\"https://colab.research.google.com/assets/colab-badge.svg\" alt=\"Open In Colab\"/></a>"
      ]
    },
    {
      "cell_type": "code",
      "metadata": {
        "colab": {
          "base_uri": "https://localhost:8080/"
        },
        "id": "cXozyWNZBiYJ",
        "outputId": "fe755dab-e39a-4039-a855-7d296dd28c94"
      },
      "source": [
        "print(\"Hello World\") # Code Session"
      ],
      "execution_count": 1,
      "outputs": [
        {
          "output_type": "stream",
          "name": "stdout",
          "text": [
            "Hello World\n"
          ]
        }
      ]
    },
    {
      "cell_type": "markdown",
      "metadata": {
        "id": "5ZxN6EgvBt1h"
      },
      "source": [
        "# MarkDown: Use '#' for Title\n",
        "## Subtitle\n",
        "### Getting smaller\n",
        "* '*' for the list\n",
        " * sublist\n",
        "1. Number for the list\n",
        "2. See how it works"
      ]
    },
    {
      "cell_type": "code",
      "metadata": {
        "colab": {
          "base_uri": "https://localhost:8080/"
        },
        "id": "8HN2jAWNCXZD",
        "outputId": "f241ece5-18ca-45c7-e935-f6751ea8c295"
      },
      "source": [
        "a=2\n",
        "b=3 \n",
        "c=a+b\n",
        "print(c)\n",
        "# Run code\n",
        "# Command + Enter: for Window OS"
      ],
      "execution_count": 2,
      "outputs": [
        {
          "output_type": "stream",
          "name": "stdout",
          "text": [
            "5\n"
          ]
        }
      ]
    },
    {
      "cell_type": "code",
      "metadata": {
        "colab": {
          "base_uri": "https://localhost:8080/"
        },
        "id": "cyPnWw03Cdj-",
        "outputId": "88a0affc-b982-4fd8-e3c0-05a9c4a1d204"
      },
      "source": [
        "d= c-5\n",
        "print(d)"
      ],
      "execution_count": 3,
      "outputs": [
        {
          "output_type": "stream",
          "name": "stdout",
          "text": [
            "0\n"
          ]
        }
      ]
    },
    {
      "cell_type": "code",
      "metadata": {
        "colab": {
          "base_uri": "https://localhost:8080/"
        },
        "id": "Ig5u7XzPCpyK",
        "outputId": "7b02862b-8dee-4d75-ed09-8f34cfce34f9"
      },
      "source": [
        "text1 = \"Good\"\n",
        "print(text1)"
      ],
      "execution_count": 4,
      "outputs": [
        {
          "output_type": "stream",
          "name": "stdout",
          "text": [
            "Good\n"
          ]
        }
      ]
    },
    {
      "cell_type": "code",
      "metadata": {
        "colab": {
          "base_uri": "https://localhost:8080/"
        },
        "id": "7hTqo8XmCtiM",
        "outputId": "790c5e36-bfb7-4336-9110-b4ed4abd4b94"
      },
      "source": [
        "text1 = \"Colab\"\n",
        "print(text1)"
      ],
      "execution_count": 5,
      "outputs": [
        {
          "output_type": "stream",
          "name": "stdout",
          "text": [
            "Colab\n"
          ]
        }
      ]
    },
    {
      "cell_type": "code",
      "metadata": {
        "colab": {
          "base_uri": "https://localhost:8080/"
        },
        "id": "g30RlsDMCw5H",
        "outputId": "7838e7fe-92cc-4897-b00b-00172889a5dd"
      },
      "source": [
        "print(text1)"
      ],
      "execution_count": 6,
      "outputs": [
        {
          "output_type": "stream",
          "name": "stdout",
          "text": [
            "Colab\n"
          ]
        }
      ]
    },
    {
      "cell_type": "markdown",
      "metadata": {
        "id": "IifS-f69YMLM"
      },
      "source": [
        ""
      ]
    }
  ]
}