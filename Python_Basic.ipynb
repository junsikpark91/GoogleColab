{
  "nbformat": 4,
  "nbformat_minor": 0,
  "metadata": {
    "colab": {
      "name": "Python Basic.ipynb",
      "provenance": [],
      "collapsed_sections": [],
      "authorship_tag": "ABX9TyPq7ucxIlFfZzSlFvsvcOYG",
      "include_colab_link": true
    },
    "kernelspec": {
      "name": "python3",
      "display_name": "Python 3"
    },
    "language_info": {
      "name": "python"
    }
  },
  "cells": [
    {
      "cell_type": "markdown",
      "metadata": {
        "id": "view-in-github",
        "colab_type": "text"
      },
      "source": [
        "<a href=\"https://colab.research.google.com/github/junsikpark91/GoogleColab/blob/main/Python_Basic.ipynb\" target=\"_parent\"><img src=\"https://colab.research.google.com/assets/colab-badge.svg\" alt=\"Open In Colab\"/></a>"
      ]
    },
    {
      "cell_type": "markdown",
      "metadata": {
        "id": "y8cML8oD2cx6"
      },
      "source": [
        "# Introduction of Python\n",
        "\n",
        "* What is Programming\n",
        " * Writing the computer language (ex. C, C++, JAVA, Python etc.) to make the computer to do the command \n",
        "* Python?\n",
        " * Script language: Instead of compiling the source code, software(python) interprets the code \n",
        "  * Pros\n",
        "   * Easy Grammar\n",
        "   * Easy to read\n",
        "   * Many  libraries\n",
        "   * Broad Application\n",
        "  * Cons\n",
        "   * Slower than complier\n",
        "\n"
      ]
    },
    {
      "cell_type": "markdown",
      "metadata": {
        "id": "w1f1oERN4KbU"
      },
      "source": [
        "# Python Data Type\n",
        "\n",
        " * Data Type?\n",
        "   * Complier based Programming Language (C/Java) shoud define the data type in memory (RAM)\n",
        "   * Define data type of the variable, and assign data\n",
        "   * In Python, however, no need of definition for the data type\n",
        " * Data Type in Python\n",
        "   * Number: Integer, float, octal(8) number, hexadecimal (16)\n",
        "   * String\n",
        "   * List\n",
        "   * Tuple\n",
        "   * Dictionary\n",
        "   * Set"
      ]
    },
    {
      "cell_type": "markdown",
      "metadata": {
        "id": "fHqecTdf5tCa"
      },
      "source": [
        "# Variable\n",
        " * What is variable?\n",
        "  * Pointer: The place where the data stored (Memory address)\n",
        "  * But it makes hard to develope software if we use memory address as variable name\n",
        "  * So, assign easy name to manage variable\n",
        "\n",
        " * Rule \n",
        "  * Variable_name = value (ex: a=1024)\n",
        "  * Only English name\n",
        "  * No special character is allowed in naming\n",
        "  * lower case\n"
      ]
    },
    {
      "cell_type": "code",
      "metadata": {
        "colab": {
          "base_uri": "https://localhost:8080/"
        },
        "id": "wIMb3LWM8i7l",
        "outputId": "89519648-80a1-4ffa-ec09-c470180eb121"
      },
      "source": [
        "# Data Type: Numbers\n",
        "\n",
        "a =4 \n",
        "b=32.195\n",
        "c=bin(42)\n",
        "d= oct(42)\n",
        "e=hex(42)\n",
        "\n",
        "print(\"Integer: \", a)\n",
        "print(\"Float: \",b)\n",
        "print(\"Binary: \", c)\n",
        "print(\"Octa: \", d)\n",
        "print(\"Hexa: \", e)\n",
        "\n"
      ],
      "execution_count": 1,
      "outputs": [
        {
          "output_type": "stream",
          "name": "stdout",
          "text": [
            "Integer:  4\n",
            "Float:  32.195\n",
            "Binary:  0b101010\n",
            "Octa:  0o52\n",
            "Hexa:  0x2a\n"
          ]
        }
      ]
    },
    {
      "cell_type": "code",
      "metadata": {
        "colab": {
          "base_uri": "https://localhost:8080/"
        },
        "id": "_ymE5y7e80xH",
        "outputId": "248988a0-67c1-430f-f821-c1e36f09ebb9"
      },
      "source": [
        "# Arithmetic Operators\n",
        "\n",
        "print(a+b)\n",
        "print(a-b)\n",
        "print(a*b)\n",
        "print(a/b)\n",
        "print(39%4)"
      ],
      "execution_count": 2,
      "outputs": [
        {
          "output_type": "stream",
          "name": "stdout",
          "text": [
            "36.195\n",
            "-28.195\n",
            "128.78\n",
            "0.12424289485945023\n",
            "3\n"
          ]
        }
      ]
    },
    {
      "cell_type": "code",
      "metadata": {
        "colab": {
          "base_uri": "https://localhost:8080/"
        },
        "id": "KWdl6wL19FWW",
        "outputId": "6addb94c-d233-4248-b9b1-1df33ec44908"
      },
      "source": [
        "# String : \"\" or ''\n",
        "\n",
        "my_string = \"Python\"\n",
        "my_string2 = 'Basic'\n",
        "\n",
        "# Print\n",
        "print(my_string)\n",
        "print(my_string2)"
      ],
      "execution_count": 3,
      "outputs": [
        {
          "output_type": "stream",
          "name": "stdout",
          "text": [
            "Python\n",
            "Basic\n"
          ]
        }
      ]
    },
    {
      "cell_type": "code",
      "metadata": {
        "colab": {
          "base_uri": "https://localhost:8080/"
        },
        "id": "4ljoHWWU9idc",
        "outputId": "dc5aaa39-f54e-4825-92ab-9b445e72b85b"
      },
      "source": [
        "# Adding\n",
        "\n",
        "print(my_string+ \"-\"+ my_string2)\n",
        "\n",
        "#Multiplying\n",
        "\n",
        "print(my_string*5)"
      ],
      "execution_count": 4,
      "outputs": [
        {
          "output_type": "stream",
          "name": "stdout",
          "text": [
            "Python-Basic\n",
            "PythonPythonPythonPythonPython\n"
          ]
        }
      ]
    },
    {
      "cell_type": "markdown",
      "metadata": {
        "id": "gKT79fOr98aL"
      },
      "source": [
        "# String: Indexing, Slicing\n",
        "\n",
        "* Manipulating string data by using index number\n",
        " * Indexing: String assings index number in each character\n",
        " * slincing: Printing some or all character by using index number\n"
      ]
    },
    {
      "cell_type": "code",
      "metadata": {
        "colab": {
          "base_uri": "https://localhost:8080/"
        },
        "id": "wBI9harb9yIt",
        "outputId": "e764ce96-8284-4c70-b621-ccb203d92959"
      },
      "source": [
        "# Slicing, Indexing\n",
        "\n",
        "my_string = \"Practice Python\"\n",
        "\n",
        "# Indexing\n",
        "print(my_string[0])\n",
        "print(my_string[1])\n",
        "print(my_string[2])\n",
        "print()\n",
        "\n",
        "# Reverse output\n",
        "print(my_string[-1])\n",
        "print(my_string[-2])\n",
        "\n",
        "#Slicing\n",
        "\n",
        "print(my_string[0:3])\n",
        "print(my_string[:8])\n",
        "print(my_string[-6:])\n",
        "print(my_string[-6:-3])"
      ],
      "execution_count": 2,
      "outputs": [
        {
          "output_type": "stream",
          "name": "stdout",
          "text": [
            "P\n",
            "r\n",
            "a\n",
            "\n",
            "n\n",
            "o\n",
            "Pra\n",
            "Practice\n",
            "Python\n",
            "Pyt\n"
          ]
        }
      ]
    },
    {
      "cell_type": "markdown",
      "metadata": {
        "id": "uCXMKyxfmF5X"
      },
      "source": [
        "#String Function\n",
        "* count(): count the number of character in the string\n",
        "* find(): Finding location\n",
        "* replace(): Replace chracter\n",
        "* split(): Split string into pieces"
      ]
    },
    {
      "cell_type": "code",
      "metadata": {
        "colab": {
          "base_uri": "https://localhost:8080/"
        },
        "id": "_WBjtM-5-1mo",
        "outputId": "b6eb89ec-1567-4c78-93ee-721af6e519ab"
      },
      "source": [
        "#Count()\n",
        "print(my_string.count(\" \"))\n",
        "\n",
        "#find()\n",
        "print(my_string.find(\"Practice\"))\n",
        "print(my_string.find(\"Python\"))\n",
        "\n",
        "#replace()\n",
        "print(my_string.replace(\"Practice\",\"Learning\"))"
      ],
      "execution_count": 4,
      "outputs": [
        {
          "output_type": "stream",
          "name": "stdout",
          "text": [
            "1\n",
            "0\n",
            "9\n",
            "Learning Python\n"
          ]
        }
      ]
    },
    {
      "cell_type": "markdown",
      "metadata": {
        "id": "EcH76he-nQ6w"
      },
      "source": [
        "#List\n",
        "##List Data Type\n",
        "* In C and Java, List means the linked list\n",
        "* In Python, simliar but not a list\n",
        " * Access by Index value\n",
        " * Function exists as a object\n",
        "\n",
        "## List Function\n",
        "\n",
        "* a.append(4): add number '4' at the last place of the list\n",
        "* a.sort(): sorting the list value \n",
        "* a.reverse(): Reverse the value\n",
        "* a.index(3): Returning index number of '3'\n",
        "* a.insert(3,5): inserting '5' at the 3rd index\n",
        "* a.remove(3): Remove first '3' (just first once) in the list\n",
        "* a.pop(): Returning last value in the list and remove last value"
      ]
    },
    {
      "cell_type": "code",
      "metadata": {
        "colab": {
          "base_uri": "https://localhost:8080/"
        },
        "id": "bSHCClw5muzk",
        "outputId": "5ed77bdd-83cd-42b0-cbf7-b8ea870da75f"
      },
      "source": [
        "# Function\n",
        "\n",
        "my_list= [1 ,2, 3]\n",
        "my_list.append(4)\n",
        "print(my_list)\n",
        "\n",
        "my_list.reverse()\n",
        "print(my_list)\n",
        "\n",
        "print(my_list.index(3))\n",
        "\n",
        "my_list.insert(3,5)\n",
        "print(my_list)\n",
        "\n",
        "my_list.remove(3)\n",
        "print(my_list)\n",
        "\n",
        "print(\"Pop: {}\".format(my_list.pop()))\n",
        "print(my_list)"
      ],
      "execution_count": 8,
      "outputs": [
        {
          "output_type": "stream",
          "name": "stdout",
          "text": [
            "[1, 2, 3, 4]\n",
            "[4, 3, 2, 1]\n",
            "1\n",
            "[4, 3, 2, 5, 1]\n",
            "[4, 2, 5, 1]\n",
            "Pop: 1\n",
            "[4, 2, 5]\n"
          ]
        }
      ]
    },
    {
      "cell_type": "markdown",
      "metadata": {
        "id": "uBZ68uA8yIcO"
      },
      "source": [
        "# Tuple\n",
        "## Tuple Data Type\n",
        "* Similar with list\n",
        "* Can't change the value in Tuple\n",
        "* Uses Parenthesis ()\n",
        "* Can initialize value using comma ,"
      ]
    },
    {
      "cell_type": "code",
      "metadata": {
        "colab": {
          "base_uri": "https://localhost:8080/"
        },
        "id": "DaSniE_rqhWM",
        "outputId": "c4e8f76f-b22b-4b6e-c572-b5e808697ea6"
      },
      "source": [
        "my_t1 = (1,2,3)\n",
        "my_t2 = (1, )\n",
        "my_t3 = 1, 2, 3\n",
        "\n",
        "print(my_t1)\n",
        "print(my_t2)\n",
        "print(my_t3)"
      ],
      "execution_count": 1,
      "outputs": [
        {
          "output_type": "stream",
          "name": "stdout",
          "text": [
            "(1, 2, 3)\n",
            "(1,)\n",
            "(1, 2, 3)\n"
          ]
        }
      ]
    },
    {
      "cell_type": "markdown",
      "metadata": {
        "id": "U99n0R1SHsqh"
      },
      "source": [
        "#Dictionary\n",
        "\n",
        "##Dictionary Data Type\n",
        "* 'Key' and 'Value' are stored\n",
        "* 'Key' is unique value\n",
        "* Fastest way in searching value\n",
        "* No index number\n",
        "* Using high volume of memory\n",
        "\n",
        "* Use braces {} to initialize dictionary\n",
        "* Use bracket [ ] to insert value "
      ]
    },
    {
      "cell_type": "code",
      "metadata": {
        "colab": {
          "base_uri": "https://localhost:8080/"
        },
        "id": "CSR6kSOsykfN",
        "outputId": "78e7ff31-4f00-45bc-948c-ad2177738177"
      },
      "source": [
        "# Initialize Dictionary\n",
        "my_dict={}\n",
        "\n",
        "# Insert Key-Value \n",
        "my_dict['name']='Kevin'\n",
        "my_dict['weight']='78kg'\n",
        "my_dict[11] = 'location'\n",
        "\n",
        "print(my_dict)\n",
        "\n",
        "# Delete \n",
        "\n",
        "del my_dict[11]\n",
        "print(my_dict)\n",
        "\n",
        "# Search Key value\n",
        "print(my_dict.keys())\n",
        "\n"
      ],
      "execution_count": 4,
      "outputs": [
        {
          "output_type": "stream",
          "name": "stdout",
          "text": [
            "{'name': 'Kevin', 'weight': '78kg', 11: 'location'}\n",
            "{'name': 'Kevin', 'weight': '78kg'}\n",
            "dict_keys(['name', 'weight'])\n"
          ]
        }
      ]
    },
    {
      "cell_type": "markdown",
      "metadata": {
        "id": "hlMmSEd7NNJT"
      },
      "source": [
        "# Conditional Statements\n",
        "\n",
        "## Relational Operater\n",
        "\n",
        "* a>b: Is a greater than b?\n",
        "* a<b: Is b greater than a?\n",
        "* a>=b: Is a greater or equal to b\n",
        "* a<=b: is b greater or equal to a\n",
        "* a==b: Is a equal to b\n",
        "* a!=b: is a not equal to b?\n",
        "\n",
        "## Logical Operator\n",
        "* not x: if x is true than it is false/ if x is false than it is true\n",
        "* x and y: if both x and y true than it is true\n",
        "* x or y: one of the variable are true than true\n",
        "\n"
      ]
    },
    {
      "cell_type": "code",
      "metadata": {
        "colab": {
          "base_uri": "https://localhost:8080/"
        },
        "id": "iGlg6dilMiG9",
        "outputId": "2df49e51-266d-44e4-b680-9e0384b3c892"
      },
      "source": [
        "num = 10\n",
        "\n",
        "if num ==10:\n",
        "  print(\"num is equal to 10\")\n",
        "\n",
        "if num != 10:\n",
        "  print(\"Num is not equal to 10\")\n",
        "\n",
        "if num > 10:\n",
        "  print(\"Num is greater than 10\")\n",
        "\n",
        "if num < 10:\n",
        "  print(\"Num is less than 10\")\n",
        "\n",
        "if num >= 10:\n",
        "  print(\"Num is greater or equal to 10\")\n",
        "\n",
        "if num <= 10:\n",
        "  print(\"Num is less or equal to 10\")\n",
        "\n",
        "print()\n",
        "\n",
        "num1=10\n",
        "num2=20\n",
        "\n",
        "if num1 == 10 and num2 >= 20:\n",
        "  print(\"Q1:True\")\n",
        "if num1 != 10 and num2 == 20:\n",
        "  print(\"Q2:True\")\n",
        "\n",
        "if num1 > 10 or num2 >=10:\n",
        "  print(\"Q3: True\")\n",
        "\n",
        "if num1 < 10 or num2 < 5:\n",
        "  print(\"Q4: True\")"
      ],
      "execution_count": 8,
      "outputs": [
        {
          "output_type": "stream",
          "name": "stdout",
          "text": [
            "num is equal to 10\n",
            "Num is greater or equal to 10\n",
            "Num is less or equal to 10\n",
            "\n",
            "Q1:True\n",
            "Q3: True\n"
          ]
        }
      ]
    },
    {
      "cell_type": "code",
      "metadata": {
        "colab": {
          "base_uri": "https://localhost:8080/"
        },
        "id": "ssVohGhqPAN4",
        "outputId": "26395a1a-3c8c-4e9d-e434-94f73b26b941"
      },
      "source": [
        "# If-elif\n",
        "\n",
        "num= 14\n",
        "if num == 14:\n",
        "  print(\"Num is 14\")\n",
        "  num =15\n",
        "\n",
        "elif num > 14:\n",
        "  print(\"Num is greater than 14\")\n",
        "  num= 20\n",
        "\n",
        "print(\"Fianl num is {}\".format(num))"
      ],
      "execution_count": 10,
      "outputs": [
        {
          "output_type": "stream",
          "name": "stdout",
          "text": [
            "Num is 14\n",
            "Fianl num is 15\n"
          ]
        }
      ]
    },
    {
      "cell_type": "code",
      "metadata": {
        "colab": {
          "base_uri": "https://localhost:8080/"
        },
        "id": "JQC9UltNQEq9",
        "outputId": "9876437e-e707-4cf5-9423-008c9c4a186e"
      },
      "source": [
        "# If Only\n",
        "\n",
        "num = 14\n",
        "if num==14:\n",
        "  print(\"Num is 14\")\n",
        "  num = 15\n",
        "if num > 14:\n",
        "  print(\"Num is greater than 14\")\n",
        "  num=20\n",
        "  print(\"Final num is {}\".format(num))"
      ],
      "execution_count": 11,
      "outputs": [
        {
          "output_type": "stream",
          "name": "stdout",
          "text": [
            "Num is 14\n",
            "Num is greater than 14\n",
            "Final num is 20\n"
          ]
        }
      ]
    }
  ]
}